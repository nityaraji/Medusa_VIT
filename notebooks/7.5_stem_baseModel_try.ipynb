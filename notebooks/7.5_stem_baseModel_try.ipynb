{
 "cells": [
  {
   "cell_type": "code",
   "execution_count": 1,
   "metadata": {},
   "outputs": [
    {
     "name": "stderr",
     "output_type": "stream",
     "text": [
      "c:\\Users\\admin\\Downloads\\Medusa-main\\.venv\\Lib\\site-packages\\tqdm\\auto.py:21: TqdmWarning: IProgress not found. Please update jupyter and ipywidgets. See https://ipywidgets.readthedocs.io/en/stable/user_install.html\n",
      "  from .autonotebook import tqdm as notebook_tqdm\n"
     ]
    }
   ],
   "source": [
    "import os\n",
    "os.environ[\"CUDA_VISIBLE_DEVICES\"] = \"0\"\n",
    "import torch\n",
    "from tqdm import tqdm\n",
    "import time\n",
    "from contextlib import contextmanager\n",
    "import numpy as np\n",
    "import transformers\n",
    "from huggingface_hub import hf_hub_download"
   ]
  },
  {
   "cell_type": "code",
   "execution_count": 2,
   "metadata": {},
   "outputs": [
    {
     "name": "stderr",
     "output_type": "stream",
     "text": [
      "c:\\Users\\admin\\Downloads\\Medusa-main\\.venv\\Lib\\site-packages\\huggingface_hub\\file_download.py:1132: FutureWarning: `resume_download` is deprecated and will be removed in version 1.0.0. Downloads always resume when possible. If you want to force a new download, use `force_download=True`.\n",
      "  warnings.warn(\n",
      "You are using the default legacy behaviour of the <class 'transformers.models.llama.tokenization_llama.LlamaTokenizer'>. This is expected, and simply means that the `legacy` (previous) behavior will be used so nothing changes for you. If you want to use the new behaviour, set `legacy=False`. This should only be set if you understand what it means, and thouroughly read the reason why this was added as explained in https://github.com/huggingface/transformers/pull/24565\n",
      "c:\\Users\\admin\\Downloads\\Medusa-main\\.venv\\Lib\\site-packages\\transformers\\utils\\generic.py:311: FutureWarning: `torch.utils._pytree._register_pytree_node` is deprecated. Please use `torch.utils._pytree.register_pytree_node` instead.\n",
      "  torch.utils._pytree._register_pytree_node(\n",
      "c:\\Users\\admin\\Downloads\\Medusa-main\\.venv\\Lib\\site-packages\\transformers\\utils\\generic.py:311: FutureWarning: `torch.utils._pytree._register_pytree_node` is deprecated. Please use `torch.utils._pytree.register_pytree_node` instead.\n",
      "  torch.utils._pytree._register_pytree_node(\n",
      "Loading checkpoint shards:   0%|          | 0/2 [00:00<?, ?it/s]c:\\Users\\admin\\Downloads\\Medusa-main\\.venv\\Lib\\site-packages\\transformers\\modeling_utils.py:484: FutureWarning: You are using `torch.load` with `weights_only=False` (the current default value), which uses the default pickle module implicitly. It is possible to construct malicious pickle data which will execute arbitrary code during unpickling (See https://github.com/pytorch/pytorch/blob/main/SECURITY.md#untrusted-models for more details). In a future release, the default value for `weights_only` will be flipped to `True`. This limits the functions that could be executed during unpickling. Arbitrary objects will no longer be allowed to be loaded via this mode unless they are explicitly allowlisted by the user via `torch.serialization.add_safe_globals`. We recommend you start setting `weights_only=True` for any use case where you don't have full control of the loaded file. Please open an issue on GitHub for any issues related to this experimental feature.\n",
      "  return torch.load(checkpoint_file, map_location=map_location)\n",
      "Loading checkpoint shards: 100%|██████████| 2/2 [00:12<00:00,  6.38s/it]\n",
      "c:\\Users\\admin\\Downloads\\Medusa-main\\.venv\\Lib\\site-packages\\huggingface_hub\\file_download.py:1132: FutureWarning: `resume_download` is deprecated and will be removed in version 1.0.0. Downloads always resume when possible. If you want to force a new download, use `force_download=True`.\n",
      "  warnings.warn(\n",
      "Some parameters are on the meta device because they were offloaded to the cpu.\n"
     ]
    }
   ],
   "source": [
    "import torch\n",
    "import time\n",
    "from transformers import AutoModelForCausalLM, AutoTokenizer\n",
    "\n",
    "model_name = \"lmsys/vicuna-7b-v1.3\"  \n",
    "tokenizer = AutoTokenizer.from_pretrained(model_name, use_fast=False)\n",
    "model = AutoModelForCausalLM.from_pretrained(model_name, torch_dtype=torch.float16, device_map=\"auto\")"
   ]
  },
  {
   "cell_type": "markdown",
   "metadata": {},
   "source": []
  },
  {
   "cell_type": "markdown",
   "metadata": {},
   "source": []
  },
  {
   "cell_type": "markdown",
   "metadata": {},
   "source": [
    "prompt1"
   ]
  },
  {
   "cell_type": "code",
   "execution_count": 4,
   "metadata": {},
   "outputs": [
    {
     "name": "stdout",
     "output_type": "stream",
     "text": [
      "Generated 36 tokens in 62.61 seconds.\n",
      "Tokens per second: 0.57\n"
     ]
    }
   ],
   "source": [
    "prompt = \"Explain the laws of thermodynamics in simple term.\"\n",
    "\n",
    "\n",
    "input_ids = tokenizer(prompt, return_tensors=\"pt\").input_ids.to(\"cuda\")\n",
    "\n",
    "_ = model.generate(input_ids, max_length=20)\n",
    "\n",
    "torch.cuda.synchronize() \n",
    "start_time = time.time()\n",
    "\n",
    "output = model.generate(input_ids, max_length=50, do_sample=True)\n",
    "torch.cuda.synchronize() \n",
    "\n",
    "end_time = time.time()\n",
    "\n",
    "num_generated_tokens = output.size(-1) - input_ids.size(-1)  \n",
    "elapsed_time = end_time - start_time\n",
    "tokens_per_second = num_generated_tokens / elapsed_time\n",
    "\n",
    "print(f\"Generated {num_generated_tokens} tokens in {elapsed_time:.2f} seconds.\")\n",
    "print(f\"Tokens per second: {tokens_per_second:.2f}\")\n"
   ]
  },
  {
   "cell_type": "markdown",
   "metadata": {},
   "source": [
    "prompt2"
   ]
  },
  {
   "cell_type": "code",
   "execution_count": 5,
   "metadata": {},
   "outputs": [
    {
     "name": "stdout",
     "output_type": "stream",
     "text": [
      "Generated 36 tokens in 62.58 seconds.\n",
      "Tokens per second: 0.58\n"
     ]
    }
   ],
   "source": [
    "prompt=\"What are the key differences between mitosis and meiosis?.\"\n",
    "\n",
    "input_ids = tokenizer(prompt, return_tensors=\"pt\").input_ids.to(\"cuda\")\n",
    "\n",
    "_ = model.generate(input_ids, max_length=20)\n",
    "\n",
    "torch.cuda.synchronize() \n",
    "start_time = time.time()\n",
    "\n",
    "output = model.generate(input_ids, max_length=50, do_sample=True)\n",
    "torch.cuda.synchronize() \n",
    "\n",
    "end_time = time.time()\n",
    "\n",
    "num_generated_tokens = output.size(-1) - input_ids.size(-1)  \n",
    "elapsed_time = end_time - start_time\n",
    "tokens_per_second = num_generated_tokens / elapsed_time\n",
    "\n",
    "print(f\"Generated {num_generated_tokens} tokens in {elapsed_time:.2f} seconds.\")\n",
    "print(f\"Tokens per second: {tokens_per_second:.2f}\")\n"
   ]
  },
  {
   "cell_type": "markdown",
   "metadata": {},
   "source": [
    "prompt3"
   ]
  },
  {
   "cell_type": "code",
   "execution_count": 6,
   "metadata": {},
   "outputs": [
    {
     "name": "stdout",
     "output_type": "stream",
     "text": [
      "Generated 41 tokens in 71.55 seconds.\n",
      "Tokens per second: 0.57\n"
     ]
    }
   ],
   "source": [
    "prompt = \"How does machine learning improve image recognition?\"\n",
    "input_ids = tokenizer(prompt, return_tensors=\"pt\").input_ids.to(\"cuda\")\n",
    "\n",
    "_ = model.generate(input_ids, max_length=20)\n",
    "\n",
    "torch.cuda.synchronize() \n",
    "start_time = time.time()\n",
    "\n",
    "output = model.generate(input_ids, max_length=50, do_sample=True)\n",
    "torch.cuda.synchronize() \n",
    "\n",
    "end_time = time.time()\n",
    "\n",
    "num_generated_tokens = output.size(-1) - input_ids.size(-1)  \n",
    "elapsed_time = end_time - start_time\n",
    "tokens_per_second = num_generated_tokens / elapsed_time\n",
    "\n",
    "print(f\"Generated {num_generated_tokens} tokens in {elapsed_time:.2f} seconds.\")\n",
    "print(f\"Tokens per second: {tokens_per_second:.2f}\")\n"
   ]
  },
  {
   "cell_type": "markdown",
   "metadata": {},
   "source": [
    "prompt4"
   ]
  },
  {
   "cell_type": "code",
   "execution_count": 7,
   "metadata": {},
   "outputs": [
    {
     "name": "stdout",
     "output_type": "stream",
     "text": [
      "Generated 37 tokens in 62.83 seconds.\n",
      "Tokens per second: 0.59\n"
     ]
    }
   ],
   "source": [
    "prompt = \"Describe the process of photosynthesis step by step.\"\n",
    "\n",
    "input_ids = tokenizer(prompt, return_tensors=\"pt\").input_ids.to(\"cuda\")\n",
    "\n",
    "_ = model.generate(input_ids, max_length=20)\n",
    "\n",
    "torch.cuda.synchronize() \n",
    "start_time = time.time()\n",
    "\n",
    "output = model.generate(input_ids, max_length=50, do_sample=True)\n",
    "torch.cuda.synchronize() \n",
    "\n",
    "end_time = time.time()\n",
    "\n",
    "num_generated_tokens = output.size(-1) - input_ids.size(-1)  \n",
    "elapsed_time = end_time - start_time\n",
    "tokens_per_second = num_generated_tokens / elapsed_time\n",
    "\n",
    "print(f\"Generated {num_generated_tokens} tokens in {elapsed_time:.2f} seconds.\")\n",
    "print(f\"Tokens per second: {tokens_per_second:.2f}\")\n"
   ]
  },
  {
   "cell_type": "markdown",
   "metadata": {},
   "source": [
    "prompt5"
   ]
  },
  {
   "cell_type": "code",
   "execution_count": 11,
   "metadata": {},
   "outputs": [
    {
     "name": "stdout",
     "output_type": "stream",
     "text": [
      "Generated 40 tokens in 67.56 seconds.\n",
      "Tokens per second: 0.59\n"
     ]
    }
   ],
   "source": [
    "prompt=\"What are the applications of calculus in physics?.\"\n",
    "\n",
    "input_ids = tokenizer(prompt, return_tensors=\"pt\").input_ids.to(\"cuda\")\n",
    "\n",
    "_ = model.generate(input_ids, max_length=20)\n",
    "\n",
    "torch.cuda.synchronize() \n",
    "start_time = time.time()\n",
    "\n",
    "output = model.generate(input_ids, max_length=50, do_sample=True)\n",
    "torch.cuda.synchronize() \n",
    "\n",
    "end_time = time.time()\n",
    "\n",
    "num_generated_tokens = output.size(-1) - input_ids.size(-1)  \n",
    "elapsed_time = end_time - start_time\n",
    "tokens_per_second = num_generated_tokens / elapsed_time\n",
    "\n",
    "print(f\"Generated {num_generated_tokens} tokens in {elapsed_time:.2f} seconds.\")\n",
    "print(f\"Tokens per second: {tokens_per_second:.2f}\")\n"
   ]
  },
  {
   "cell_type": "markdown",
   "metadata": {},
   "source": [
    "prompt6"
   ]
  },
  {
   "cell_type": "code",
   "execution_count": 18,
   "metadata": {},
   "outputs": [
    {
     "name": "stdout",
     "output_type": "stream",
     "text": [
      "Generated 35 tokens in 59.84 seconds.\n",
      "Tokens per second: 0.58\n"
     ]
    }
   ],
   "source": [
    "prompt = \"Discuss the impact of artificial intelligence on healthcare and patient diagnosis\"\n",
    "\n",
    "\n",
    "input_ids = tokenizer(prompt, return_tensors=\"pt\").input_ids.to(\"cuda\")\n",
    "\n",
    "_ = model.generate(input_ids, max_length=20)\n",
    "\n",
    "torch.cuda.synchronize() \n",
    "start_time = time.time()\n",
    "\n",
    "output = model.generate(input_ids, max_length=50, do_sample=True)\n",
    "torch.cuda.synchronize() \n",
    "\n",
    "end_time = time.time()\n",
    "\n",
    "num_generated_tokens = output.size(-1) - input_ids.size(-1)  \n",
    "elapsed_time = end_time - start_time\n",
    "tokens_per_second = num_generated_tokens / elapsed_time\n",
    "\n",
    "print(f\"Generated {num_generated_tokens} tokens in {elapsed_time:.2f} seconds.\")\n",
    "print(f\"Tokens per second: {tokens_per_second:.2f}\")\n"
   ]
  },
  {
   "cell_type": "markdown",
   "metadata": {},
   "source": [
    "prompt-7"
   ]
  },
  {
   "cell_type": "code",
   "execution_count": 17,
   "metadata": {},
   "outputs": [
    {
     "name": "stdout",
     "output_type": "stream",
     "text": [
      "Generated 33 tokens in 57.30 seconds.\n",
      "Tokens per second: 0.58\n"
     ]
    }
   ],
   "source": [
    "prompt = \"Explain the significance of coding in modern technology and its applications in various fields.\"\n",
    "input_ids = tokenizer(prompt, return_tensors=\"pt\").input_ids.to(\"cuda\")\n",
    "\n",
    "_ = model.generate(input_ids, max_length=20)\n",
    "\n",
    "torch.cuda.synchronize() \n",
    "start_time = time.time()\n",
    "\n",
    "output = model.generate(input_ids, max_length=50, do_sample=True)\n",
    "torch.cuda.synchronize() \n",
    "\n",
    "end_time = time.time()\n",
    "\n",
    "num_generated_tokens = output.size(-1) - input_ids.size(-1)  \n",
    "elapsed_time = end_time - start_time\n",
    "tokens_per_second = num_generated_tokens / elapsed_time\n",
    "\n",
    "print(f\"Generated {num_generated_tokens} tokens in {elapsed_time:.2f} seconds.\")\n",
    "print(f\"Tokens per second: {tokens_per_second:.2f}\")"
   ]
  },
  {
   "cell_type": "code",
   "execution_count": null,
   "metadata": {},
   "outputs": [],
   "source": []
  }
 ],
 "metadata": {
  "kernelspec": {
   "display_name": ".venv",
   "language": "python",
   "name": "python3"
  },
  "language_info": {
   "codemirror_mode": {
    "name": "ipython",
    "version": 3
   },
   "file_extension": ".py",
   "mimetype": "text/x-python",
   "name": "python",
   "nbconvert_exporter": "python",
   "pygments_lexer": "ipython3",
   "version": "3.12.3"
  }
 },
 "nbformat": 4,
 "nbformat_minor": 2
}
