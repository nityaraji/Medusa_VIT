{
 "cells": [
  {
   "cell_type": "code",
   "execution_count": 3,
   "metadata": {},
   "outputs": [],
   "source": [
    "import matplotlib.pyplot as plt\n",
    "import torch\n",
    "from medusa.model.utils import *\n",
    "from medusa.model.medusa_choices import *\n",
    "import networkx as nx"
   ]
  },
  {
   "cell_type": "markdown",
   "metadata": {},
   "source": [
    "## Medusa Tree Configuration Explained\n",
    "The `medusa_choices` is a nested list representing choices within the Medusa tree structure. The outer list corresponds to the number of nodes in the tree, while each inner list indicates the positions of ancestors and their corresponding nodes based on their depth in the tree."
   ]
  },
  {
   "cell_type": "code",
   "execution_count": 4,
   "metadata": {},
   "outputs": [],
   "source": [
    "medusa_choices = mc_sim_7b_63"
   ]
  },
  {
   "cell_type": "code",
   "execution_count": 5,
   "metadata": {},
   "outputs": [
    {
     "ename": "ImportError",
     "evalue": "requires pygraphviz http://pygraphviz.github.io/",
     "output_type": "error",
     "traceback": [
      "\u001b[1;31m---------------------------------------------------------------------------\u001b[0m",
      "\u001b[1;31mModuleNotFoundError\u001b[0m                       Traceback (most recent call last)",
      "File \u001b[1;32mc:\\Users\\admin\\Downloads\\Medusa-main\\.venv\\Lib\\site-packages\\networkx\\drawing\\nx_agraph.py:301\u001b[0m, in \u001b[0;36mpygraphviz_layout\u001b[1;34m(G, prog, root, args)\u001b[0m\n\u001b[0;32m    300\u001b[0m \u001b[38;5;28;01mtry\u001b[39;00m:\n\u001b[1;32m--> 301\u001b[0m     \u001b[38;5;28;01mimport\u001b[39;00m \u001b[38;5;21;01mpygraphviz\u001b[39;00m\n\u001b[0;32m    302\u001b[0m \u001b[38;5;28;01mexcept\u001b[39;00m \u001b[38;5;167;01mImportError\u001b[39;00m \u001b[38;5;28;01mas\u001b[39;00m err:\n",
      "\u001b[1;31mModuleNotFoundError\u001b[0m: No module named 'pygraphviz'",
      "\nThe above exception was the direct cause of the following exception:\n",
      "\u001b[1;31mImportError\u001b[0m                               Traceback (most recent call last)",
      "Cell \u001b[1;32mIn[5], line 17\u001b[0m\n\u001b[0;32m     14\u001b[0m         G\u001b[38;5;241m.\u001b[39madd_edge(parent, child)\n\u001b[0;32m     16\u001b[0m \u001b[38;5;66;03m# Use the Graphviz layout for drawing.\u001b[39;00m\n\u001b[1;32m---> 17\u001b[0m pos \u001b[38;5;241m=\u001b[39m \u001b[43mnx\u001b[49m\u001b[38;5;241;43m.\u001b[39;49m\u001b[43mnx_agraph\u001b[49m\u001b[38;5;241;43m.\u001b[39;49m\u001b[43mgraphviz_layout\u001b[49m\u001b[43m(\u001b[49m\u001b[43mG\u001b[49m\u001b[43m,\u001b[49m\u001b[43m \u001b[49m\u001b[43mprog\u001b[49m\u001b[38;5;241;43m=\u001b[39;49m\u001b[38;5;124;43m'\u001b[39;49m\u001b[38;5;124;43mdot\u001b[39;49m\u001b[38;5;124;43m'\u001b[39;49m\u001b[43m)\u001b[49m\n\u001b[0;32m     18\u001b[0m nx\u001b[38;5;241m.\u001b[39mdraw(G, pos, with_labels\u001b[38;5;241m=\u001b[39m\u001b[38;5;28;01mTrue\u001b[39;00m, node_size\u001b[38;5;241m=\u001b[39m\u001b[38;5;241m500\u001b[39m, node_color\u001b[38;5;241m=\u001b[39m\u001b[38;5;124m\"\u001b[39m\u001b[38;5;124mskyblue\u001b[39m\u001b[38;5;124m\"\u001b[39m, font_size\u001b[38;5;241m=\u001b[39m\u001b[38;5;241m10\u001b[39m, width\u001b[38;5;241m=\u001b[39m\u001b[38;5;241m2\u001b[39m, edge_color\u001b[38;5;241m=\u001b[39m\u001b[38;5;124m\"\u001b[39m\u001b[38;5;124mgray\u001b[39m\u001b[38;5;124m\"\u001b[39m)\n\u001b[0;32m     19\u001b[0m plt\u001b[38;5;241m.\u001b[39msavefig(\u001b[38;5;124m'\u001b[39m\u001b[38;5;124mmedusa_configuration_explained.png\u001b[39m\u001b[38;5;124m'\u001b[39m, dpi\u001b[38;5;241m=\u001b[39m\u001b[38;5;241m300\u001b[39m)\n",
      "File \u001b[1;32mc:\\Users\\admin\\Downloads\\Medusa-main\\.venv\\Lib\\site-packages\\networkx\\drawing\\nx_agraph.py:257\u001b[0m, in \u001b[0;36mgraphviz_layout\u001b[1;34m(G, prog, root, args)\u001b[0m\n\u001b[0;32m    226\u001b[0m \u001b[38;5;28;01mdef\u001b[39;00m \u001b[38;5;21mgraphviz_layout\u001b[39m(G, prog\u001b[38;5;241m=\u001b[39m\u001b[38;5;124m\"\u001b[39m\u001b[38;5;124mneato\u001b[39m\u001b[38;5;124m\"\u001b[39m, root\u001b[38;5;241m=\u001b[39m\u001b[38;5;28;01mNone\u001b[39;00m, args\u001b[38;5;241m=\u001b[39m\u001b[38;5;124m\"\u001b[39m\u001b[38;5;124m\"\u001b[39m):\n\u001b[0;32m    227\u001b[0m \u001b[38;5;250m    \u001b[39m\u001b[38;5;124;03m\"\"\"Create node positions for G using Graphviz.\u001b[39;00m\n\u001b[0;32m    228\u001b[0m \n\u001b[0;32m    229\u001b[0m \u001b[38;5;124;03m    Parameters\u001b[39;00m\n\u001b[1;32m   (...)\u001b[0m\n\u001b[0;32m    255\u001b[0m \u001b[38;5;124;03m    see https://gitlab.com/graphviz/graphviz/-/issues/1767 for more info.\u001b[39;00m\n\u001b[0;32m    256\u001b[0m \u001b[38;5;124;03m    \"\"\"\u001b[39;00m\n\u001b[1;32m--> 257\u001b[0m     \u001b[38;5;28;01mreturn\u001b[39;00m \u001b[43mpygraphviz_layout\u001b[49m\u001b[43m(\u001b[49m\u001b[43mG\u001b[49m\u001b[43m,\u001b[49m\u001b[43m \u001b[49m\u001b[43mprog\u001b[49m\u001b[38;5;241;43m=\u001b[39;49m\u001b[43mprog\u001b[49m\u001b[43m,\u001b[49m\u001b[43m \u001b[49m\u001b[43mroot\u001b[49m\u001b[38;5;241;43m=\u001b[39;49m\u001b[43mroot\u001b[49m\u001b[43m,\u001b[49m\u001b[43m \u001b[49m\u001b[43margs\u001b[49m\u001b[38;5;241;43m=\u001b[39;49m\u001b[43margs\u001b[49m\u001b[43m)\u001b[49m\n",
      "File \u001b[1;32mc:\\Users\\admin\\Downloads\\Medusa-main\\.venv\\Lib\\site-packages\\networkx\\drawing\\nx_agraph.py:303\u001b[0m, in \u001b[0;36mpygraphviz_layout\u001b[1;34m(G, prog, root, args)\u001b[0m\n\u001b[0;32m    301\u001b[0m     \u001b[38;5;28;01mimport\u001b[39;00m \u001b[38;5;21;01mpygraphviz\u001b[39;00m\n\u001b[0;32m    302\u001b[0m \u001b[38;5;28;01mexcept\u001b[39;00m \u001b[38;5;167;01mImportError\u001b[39;00m \u001b[38;5;28;01mas\u001b[39;00m err:\n\u001b[1;32m--> 303\u001b[0m     \u001b[38;5;28;01mraise\u001b[39;00m \u001b[38;5;167;01mImportError\u001b[39;00m(\u001b[38;5;124m\"\u001b[39m\u001b[38;5;124mrequires pygraphviz http://pygraphviz.github.io/\u001b[39m\u001b[38;5;124m\"\u001b[39m) \u001b[38;5;28;01mfrom\u001b[39;00m \u001b[38;5;21;01merr\u001b[39;00m\n\u001b[0;32m    304\u001b[0m \u001b[38;5;28;01mif\u001b[39;00m root \u001b[38;5;129;01mis\u001b[39;00m \u001b[38;5;129;01mnot\u001b[39;00m \u001b[38;5;28;01mNone\u001b[39;00m:\n\u001b[0;32m    305\u001b[0m     args \u001b[38;5;241m+\u001b[39m\u001b[38;5;241m=\u001b[39m \u001b[38;5;124mf\u001b[39m\u001b[38;5;124m\"\u001b[39m\u001b[38;5;124m-Groot=\u001b[39m\u001b[38;5;132;01m{\u001b[39;00mroot\u001b[38;5;132;01m}\u001b[39;00m\u001b[38;5;124m\"\u001b[39m\n",
      "\u001b[1;31mImportError\u001b[0m: requires pygraphviz http://pygraphviz.github.io/"
     ]
    },
    {
     "data": {
      "text/plain": [
       "<Figure size 4000x2000 with 0 Axes>"
      ]
     },
     "metadata": {},
     "output_type": "display_data"
    }
   ],
   "source": [
    "plt.figure(figsize=(40, 20)) \n",
    "\n",
    "paths = medusa_choices[:]\n",
    "\n",
    "G = nx.DiGraph()\n",
    "\n",
    "for path in paths:\n",
    "    for i in range(len(path)):\n",
    "        if i == 0:\n",
    "            parent = 'root'\n",
    "        else:\n",
    "            parent = tuple(path[:i])\n",
    "        child = tuple(path[:i+1])\n",
    "        G.add_edge(parent, child)\n",
    "\n",
    "# Use the Graphviz layout for drawing.\n",
    "pos = nx.nx_agraph.graphviz_layout(G, prog='dot')\n",
    "nx.draw(G, pos, with_labels=True, node_size=500, node_color=\"skyblue\", font_size=10, width=2, edge_color=\"gray\")\n",
    "plt.savefig('medusa_configuration_explained.png', dpi=300)\n"
   ]
  },
  {
   "cell_type": "code",
   "execution_count": 4,
   "metadata": {},
   "outputs": [],
   "source": [
    "medusa_buffers = generate_medusa_buffers(medusa_choices, device='cpu')"
   ]
  },
  {
   "cell_type": "code",
   "execution_count": 5,
   "metadata": {},
   "outputs": [
    {
     "name": "stdout",
     "output_type": "stream",
     "text": [
      "medusa_attn_mask\n",
      "tree_indices\n",
      "medusa_position_ids\n",
      "retrieve_indices\n"
     ]
    }
   ],
   "source": [
    "for item in medusa_buffers:\n",
    "    print(item)"
   ]
  },
  {
   "cell_type": "markdown",
   "metadata": {},
   "source": [
    "## Medusa Attention Mask\n",
    "You can see the attention mask for tree attention below. Each node can only associate with its ancestors."
   ]
  },
  {
   "cell_type": "code",
   "execution_count": 6,
   "metadata": {},
   "outputs": [
    {
     "name": "stdout",
     "output_type": "stream",
     "text": [
      "Medusa attention mask shape:  torch.Size([1, 1, 64, 64])\n"
     ]
    },
    {
     "data": {
      "text/plain": [
       "<matplotlib.image.AxesImage at 0x7f1b60e80520>"
      ]
     },
     "execution_count": 6,
     "metadata": {},
     "output_type": "execute_result"
    },
    {
     "data": {
      "image/png": "[encoded data removed]",
      "text/plain": [
       "<Figure size 640x480 with 1 Axes>"
      ]
     },
     "metadata": {},
     "output_type": "display_data"
    }
   ],
   "source": [
    "medusa_attn_mask = medusa_buffers['medusa_attn_mask']\n",
    "print('Medusa attention mask shape: ', medusa_attn_mask.shape)\n",
    "plt.imshow(medusa_attn_mask[0,0].cpu().numpy())"
   ]
  },
  {
   "cell_type": "markdown",
   "metadata": {},
   "source": [
    "## Explanation of Code and Outputs\n",
    "We start with a simple tensor (you can treat the values are top-1/2 from two Medusa heads) named `demo_tensor`:\n",
    "``` python \n",
    "[2, 3, 0, 0, 0, 0, 0, 0 ...] # 1st depth we choose top 2\n",
    "[4, 5, 6, 0, 0, 0, 0, 0 ...] # 2nd depth we choose top 3\n",
    "\n",
    "```\n",
    "Given the `medusa_choices` as `[[0], [0, 0], [0, 1], [0, 2], [1], [1, 0], [1, 1], [1, 2]]`, the tensor with the root `[1]` (which is the original head's top-1) can be visualized as:\n",
    "\n",
    "``` python\n",
    "[1]\n",
    "[2, 3]\n",
    "[4, 5, 6]\n",
    "```\n",
    "\n",
    "### Tree Indices\n",
    "The `tree_indices` provide us with the positions that we are looking at from the original tensor. \n",
    "\n",
    "Some of the positions are repeated, indicating that they are fetched multiple times due to the combination.\n",
    "\n",
    "The tree indices for the above tensor are:\n",
    "``` python\n",
    "[0, 1, 2, 3, 4, 5, 3, 4, 5]\n",
    "```\n",
    "\n",
    "The tree looks like this:\n",
    "\n",
    "``` python\n",
    "1\n",
    "|-- 2\n",
    "|   |-- 4\n",
    "|   |-- 5\n",
    "|   |-- 6\n",
    "|-- 3\n",
    "|   |-- 4\n",
    "|   |-- 5\n",
    "|   |-- 6\n",
    "```\n",
    "\n",
    "When we use these indices to map values from the `demo_tensor`, we get the following flatten tree representation of the tensor:\n",
    "\n",
    "``` python\n",
    "[1, 2, 3, 4, 5, 6, 4, 5, 6]\n",
    "```\n",
    "\n",
    "### Medusa Position IDs\n",
    "These are essentially depths for positions in the tree representation to make sure tokens on the same depth are applied with same position embedding.\n",
    "\n",
    "```python\n",
    "[0, 1, 1, 2, 2, 2, 2, 2, 2] # Medusa position IDs\n",
    " |  |  |  |  |  |  |  |  |\n",
    "[1, 2, 3, 4, 5, 6, 4, 5, 6] # Flatten tree representation of the tensor\n",
    "```\n",
    "\n",
    "### Retrieve Indices\n",
    "\n",
    "`retrieve_indices` provides a map from tree to cartesian product of the demo tensor. \n",
    "\n",
    "Retrieve indices: \n",
    "\n",
    "```python\n",
    "[0, 2, 8]\n",
    "[0, 2, 7]\n",
    "[0, 2, 6]\n",
    "[0, 1, 5]\n",
    "[0, 1, 4]\n",
    "[0, 1, 3]\n",
    "```\n",
    "\n",
    "When mapping values from the flatten tree using these indices, we get:\n",
    "\n",
    "``` python\n",
    "[1, 3, 6]\n",
    "[1, 3, 5]\n",
    "[1, 3, 4]\n",
    "[1, 2, 6]\n",
    "[1, 2, 5]\n",
    "[1, 2, 4]\n",
    "```\n"
   ]
  },
  {
   "cell_type": "code",
   "execution_count": 7,
   "metadata": {},
   "outputs": [
    {
     "name": "stdout",
     "output_type": "stream",
     "text": [
      "Demo tensor: \n",
      " tensor([[2, 3, 0, 0, 0, 0, 0, 0, 0, 0],\n",
      "        [4, 5, 6, 0, 0, 0, 0, 0, 0, 0]])\n",
      "==================================================\n",
      "Tree indices: \n",
      " [0, 1, 2, 11, 12, 13, 11, 12, 13]\n",
      "Tree reprentation of the tensor: \n",
      " [1, 2, 3, 4, 5, 6, 4, 5, 6]\n",
      "==================================================\n",
      "Medusa position ids: \n",
      " [0, 1, 1, 2, 2, 2, 2, 2, 2]\n",
      "==================================================\n",
      "Retrieve indices: \n",
      " [[0, 2, 8], [0, 2, 7], [0, 2, 6], [0, 1, 5], [0, 1, 4], [0, 1, 3]]\n",
      "Retrieve reprentation of the tensor: \n",
      " [[1, 3, 6], [1, 3, 5], [1, 3, 4], [1, 2, 6], [1, 2, 5], [1, 2, 4]]\n",
      "==================================================\n"
     ]
    }
   ],
   "source": [
    "demo_tensor = torch.zeros(2,10).long()\n",
    "demo_tensor[0,0] = 2\n",
    "demo_tensor[0,1] = 3\n",
    "demo_tensor[1,0] = 4\n",
    "demo_tensor[1,1] = 5\n",
    "demo_tensor[1,2] = 6\n",
    "print('Demo tensor: \\n', demo_tensor)\n",
    "demo_tensor = demo_tensor.flatten()\n",
    "demo_tensor = torch.cat([torch.ones(1).long(), demo_tensor])\n",
    "print('='*50)\n",
    "medusa_choices = [[0], [0, 0], [0, 1], [0, 2], [1], [1, 0], [1, 1], [1, 2]]\n",
    "medusa_buffers = generate_medusa_buffers(medusa_choices, device='cpu')\n",
    "tree_indices = medusa_buffers['tree_indices']\n",
    "medusa_position_ids = medusa_buffers['medusa_position_ids']\n",
    "retrieve_indices = medusa_buffers['retrieve_indices']\n",
    "print('Tree indices: \\n', tree_indices.tolist())\n",
    "print('Tree reprentation of the tensor: \\n', demo_tensor[tree_indices].tolist())\n",
    "print('='*50)\n",
    "print('Medusa position ids: \\n', medusa_position_ids.tolist())\n",
    "print('='*50)\n",
    "print('Retrieve indices: \\n', retrieve_indices.tolist())\n",
    "demo_tensor_tree = demo_tensor[tree_indices]\n",
    "demo_tensor_tree_ext = torch.cat([demo_tensor_tree, torch.ones(1).long().mul(-1)])\n",
    "print('Retrieve reprentation of the tensor: \\n', demo_tensor_tree_ext[retrieve_indices].tolist())\n",
    "print('='*50)"
   ]
  },
  {
   "cell_type": "code",
   "execution_count": null,
   "metadata": {},
   "outputs": [],
   "source": []
  }
 ],
 "metadata": {
  "kernelspec": {
   "display_name": ".venv",
   "language": "python",
   "name": "python3"
  },
  "language_info": {
   "codemirror_mode": {
    "name": "ipython",
    "version": 3
   },
   "file_extension": ".py",
   "mimetype": "text/x-python",
   "name": "python",
   "nbconvert_exporter": "python",
   "pygments_lexer": "ipython3",
   "version": "3.12.3"
  },
  "orig_nbformat": 4
 },
 "nbformat": 4,
 "nbformat_minor": 2
}
